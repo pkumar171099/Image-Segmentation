{
  "nbformat": 4,
  "nbformat_minor": 0,
  "metadata": {
    "colab": {
      "provenance": []
    },
    "kernelspec": {
      "name": "python3",
      "display_name": "Python 3"
    },
    "language_info": {
      "name": "python"
    },
    "accelerator": "GPU",
    "gpuClass": "standard"
  },
  "cells": [
    {
      "cell_type": "code",
      "source": [
        "from google.colab import drive\n",
        "drive.mount('/content/drive/')"
      ],
      "metadata": {
        "colab": {
          "base_uri": "https://localhost:8080/"
        },
        "id": "t9Q1xaNVW8gF",
        "outputId": "282cec4d-8f7a-4bfa-c10e-e625ea0092af"
      },
      "execution_count": 2,
      "outputs": [
        {
          "output_type": "stream",
          "name": "stdout",
          "text": [
            "Mounted at /content/drive/\n"
          ]
        }
      ]
    },
    {
      "cell_type": "code",
      "source": [
        "# Check if a GPU is available and set the device\n",
        "import torch\n",
        "device = torch.device(\"cuda\" if torch.cuda.is_available() else \"cpu\")\n",
        "print(device)"
      ],
      "metadata": {
        "colab": {
          "base_uri": "https://localhost:8080/"
        },
        "id": "4QvSIM7DhSqi",
        "outputId": "a337a606-7dad-457a-87ca-7d7e4d8d4311"
      },
      "execution_count": 3,
      "outputs": [
        {
          "output_type": "stream",
          "name": "stdout",
          "text": [
            "cuda\n"
          ]
        }
      ]
    },
    {
      "cell_type": "code",
      "source": [
        "# dependencies\n",
        "import os\n",
        "import sys\n",
        "import numpy as np\n",
        "import torchvision.models as models\n",
        "import torch\n",
        "from torchvision import transforms\n",
        "import numpy as np\n",
        "from skimage import io, transform, color, metrics\n",
        "import imageio\n",
        "import matplotlib.pyplot as plt\n",
        "from torch.utils.data import DataLoader\n",
        "import torch\n",
        "import torchvision\n",
        "import torch.nn as nn\n",
        "from torch.nn import functional as F"
      ],
      "metadata": {
        "id": "ynH867rcbqeo"
      },
      "execution_count": 4,
      "outputs": []
    },
    {
      "cell_type": "code",
      "source": [
        "def path_to_list(path):  \n",
        "  image_names = []\n",
        "  with open(path, 'r') as file:\n",
        "      for line in file:\n",
        "          # Remove any leading or trailing whitespace from the line\n",
        "          line = line.strip()\n",
        "          # Add the '.png' extension to the image name and append it to the list\n",
        "          if(line!='' and line !=' '):\n",
        "            image_names.append(line)\n",
        "  # print(image_names[:10])\n",
        "  return image_names\n"
      ],
      "metadata": {
        "id": "IlCEvBbtkqpz"
      },
      "execution_count": 5,
      "outputs": []
    },
    {
      "cell_type": "code",
      "source": [
        "train_txt_path = '/content/drive/MyDrive/AIP_A2/q2/PascalVOC/trainval/train.txt'\n",
        "validation_txt_path = '/content/drive/MyDrive/AIP_A2/q2/PascalVOC/trainval/val.txt'\n",
        "images_path = '/content/drive/MyDrive/AIP_A2/q2/PascalVOC/trainval/Images'\n",
        "annotations_path = '/content/drive/MyDrive/AIP_A2/q2/PascalVOC/trainval/Annotations'"
      ],
      "metadata": {
        "id": "6kyNKPThbowX"
      },
      "execution_count": 6,
      "outputs": []
    },
    {
      "cell_type": "code",
      "source": [
        "import torch\n",
        "from torch.utils.data import Dataset\n",
        "\n",
        "class CustomDataset(Dataset):\n",
        "    def __init__(self, image_path, annotations_path, image_names, transform=None):\n",
        "        self.image_path = image_path\n",
        "        self.annotations_path = annotations_path\n",
        "        self.image_names = image_names\n",
        "        self.transform = transform\n",
        "    \n",
        "    def __len__(self):\n",
        "        return len(self.image_names)\n",
        "    def rgb2mask(self,img):\n",
        "      color2index = {\n",
        "          (0,   0,   0)   : 0,   # background\n",
        "          (128, 0,   0)   : 1,   # aeroplane\n",
        "          (0,   128, 0)   : 2,   # bicycle\n",
        "          (128, 128, 0)   : 3,   # bird\n",
        "          (0,   0,   128) : 4,   # boat\n",
        "          (128, 0,   128) : 5,   # bottle\n",
        "          (0,   128, 128) : 6,   # bus\n",
        "          (128, 128, 128) : 7,   # car\n",
        "          (64,  0,   0)   : 8,   # cat\n",
        "          (192, 0,   0)   : 9,   # chair\n",
        "          (64,  128, 0)   : 10,  # cow\n",
        "          (192, 128, 0)   : 11,  # dining table\n",
        "          (64,  0,   128) : 12,  # dog\n",
        "          (192, 0,   128) : 13,  # horse\n",
        "          (64,  128, 128) : 14,  # motorbike\n",
        "          (192, 128, 128) : 15,  # person\n",
        "          (0,   64,  0)   : 16,  # potted plant\n",
        "          (128, 64,  0)   : 17,  # sheep\n",
        "          (0,   192, 0)   : 18,  # sofa\n",
        "          (128, 192, 0)   : 19,  # train\n",
        "          (0,   64,  128) : 20,  # tv/monitor\n",
        "          }\n",
        "      assert len(img.shape) == 3\n",
        "      height, width, ch = img.shape\n",
        "      assert ch == 3\n",
        "\n",
        "      W = np.power(256, [[0],[1],[2]])\n",
        "\n",
        "      img_id = img.dot(W).squeeze(-1) \n",
        "      values = np.unique(img_id)\n",
        "\n",
        "      mask = np.zeros(img_id.shape)\n",
        "\n",
        "      for i, c in enumerate(values):\n",
        "          try:\n",
        "              mask[img_id==c] = color2index[tuple(img[img_id==c][0])] \n",
        "          except:\n",
        "              pass\n",
        "      return mask\n",
        "    \n",
        "    def __getitem__(self, index):\n",
        "        # get the name of the image at the given index\n",
        "        image_name = self.image_names[index]\n",
        "        \n",
        "        # load the image from file\n",
        "        image_image_name = image_name + '.jpg'\n",
        "        annotations_image_name = image_name + '.png'\n",
        "        final_image_path = os.path.join(self.image_path,image_image_name)\n",
        "        final_annotations_path = os.path.join(self.annotations_path, annotations_image_name)\n",
        "\n",
        "        image = io.imread(final_image_path)\n",
        "        \n",
        "\n",
        "        annotation = imageio.imread(final_annotations_path , pilmode='RGB')\n",
        "        annotation = np.asarray(annotation)\n",
        "        if self.transform:\n",
        "            annotation = self.transform(annotation)\n",
        "\n",
        "        annotation = annotation.numpy().transpose((1, 2, 0))\n",
        "        annotation = annotation*255\n",
        "        annotation = np.rint(annotation)\n",
        "        annotation = self.rgb2mask(annotation)\n",
        "        annotation = np.rint(annotation)\n",
        "        annotation = (annotation).astype(int)\n",
        "        \n",
        "        # apply the transform (if any)\n",
        "        if self.transform:\n",
        "            image = self.transform(image)\n",
        "            # annotation = self.transform(annotation)\n",
        "        \n",
        "        # return the image and its name\n",
        "        return image, annotation"
      ],
      "metadata": {
        "id": "B_zmy-2_a381"
      },
      "execution_count": 8,
      "outputs": []
    },
    {
      "cell_type": "code",
      "source": [
        "# Accuracy function\n",
        "def pixelwise_accuracy(predicted_masks, gt_masks):\n",
        "    acc = np.zeros(len(predicted_masks))\n",
        "    for i in range(len(predicted_masks)):\n",
        "      num_correct = np.sum(predicted_masks[i] == gt_masks[i])\n",
        "      num_pixels = predicted_masks[i].size\n",
        "      accuracy = num_correct / num_pixels\n",
        "      acc[i] = accuracy\n",
        "      \n",
        "    return np.mean(acc)"
      ],
      "metadata": {
        "id": "K1uj-kSVO7Va"
      },
      "execution_count": 9,
      "outputs": []
    },
    {
      "cell_type": "code",
      "source": [
        "# Mean IOU function\n",
        "def mean_iou(predicted_masks, gt_masks,num_classes):\n",
        "    total_iou = np.zeros(len(predicted_masks))\n",
        "\n",
        "    for i in range(len(predicted_masks)):\n",
        "      \n",
        "      temp = predicted_masks[i]\n",
        "      \n",
        "      # Initialize variables to store the per-class intersection and union\n",
        "      intersection = []\n",
        "      union = []\n",
        "\n",
        "      # Calculate the intersection and union for each class\n",
        "      for c in range(num_classes):\n",
        "          # Get binary masks for the current class in the predicted and ground truth masks\n",
        "          pred_class = (predicted_masks[i] == c)\n",
        "          gt_class = (gt_masks[i] == c)\n",
        "          \n",
        "          # Calculate the intersection and union of the binary masks\n",
        "          temp_union = np.logical_or(pred_class, gt_class).sum()\n",
        "          if(temp_union!=0):\n",
        "            intersection.append(np.logical_and(pred_class, gt_class).sum())\n",
        "            union.append(temp_union) \n",
        "          \n",
        "      # Calculate the IoU for each class and the overall mean IoU\n",
        "      iou_per_class = [i / j for i, j in zip(intersection, union)]\n",
        "      \n",
        "      total_iou[i] = sum(iou_per_class)/len(iou_per_class)\n",
        "      \n",
        "    return np.mean(total_iou)"
      ],
      "metadata": {
        "id": "Y4atjsH1O97h"
      },
      "execution_count": 18,
      "outputs": []
    },
    {
      "cell_type": "code",
      "source": [
        "def train_model(mobilenet,train_txt_path,images_path,annotations_path,num_epochs):\n",
        "  num_classes = 21\n",
        "  # mobilenet = torchvision.models.mobilenet_v2(pretrained=True)\n",
        "  mobilenet = nn.Sequential(*list(mobilenet.children())[:-1])\n",
        "  for param in mobilenet.parameters():\n",
        "      param.requires_grad = False\n",
        "  mobilenet.add_module('final_conv', nn.Conv2d(1280, num_classes, kernel_size=1))\n",
        "  mobilenet.add_module('transpose_conv', nn.ConvTranspose2d(num_classes, num_classes,kernel_size=64, padding=16, stride=32))\n",
        "  \n",
        "\n",
        "  # Define the loss function and optimizer:=\n",
        "\n",
        "  criterion = nn.CrossEntropyLoss()\n",
        "  optimizer = torch.optim.Adam(mobilenet.parameters())\n",
        "\n",
        "  # Transform\n",
        "  transform = transforms.Compose([\n",
        "      transforms.ToTensor(),\n",
        "      transforms.Resize((256,256)),\n",
        "  ])\n",
        "\n",
        "  image_names = path_to_list(train_txt_path)\n",
        "\n",
        "  train_image_dataset = CustomDataset(images_path,annotations_path,image_names,transform)\n",
        "  # train_masks_dataset = CustomDataset(annotations_path,train_annotations_names,transform)\n",
        "\n",
        "\n",
        "\n",
        "  # Load and preprocess your dataset\n",
        "  train_loader = DataLoader(\n",
        "      dataset=train_image_dataset,\n",
        "      batch_size=1,\n",
        "      shuffle=True,\n",
        "      num_workers=1\n",
        "  )\n",
        "\n",
        "  # num_epochs = 10\n",
        "\n",
        "  # Loading model to device (or GPU)\n",
        "  # mobilenet.to(device)\n",
        "\n",
        "  # Train\n",
        "  mobilenet.train()\n",
        "  # Train the model on the given dataset\n",
        "  for epoch in range(num_epochs):\n",
        "      for images, labels in train_loader:\n",
        "          # Forward pass\n",
        "          outputs = mobilenet(images)\n",
        "          \n",
        "          loss = criterion(outputs, labels)\n",
        "\n",
        "          optimizer.zero_grad()\n",
        "          loss.backward()\n",
        "          optimizer.step()\n",
        "      print('Epoch [{}/{}], Loss: {:.4f}'.format(epoch+1, num_epochs, loss.item()))\n",
        "  mobilenet.cpu()\n",
        "  return mobilenet"
      ],
      "metadata": {
        "id": "kxdq2nNkPalZ"
      },
      "execution_count": 19,
      "outputs": []
    },
    {
      "cell_type": "code",
      "source": [
        "def test_model(mobilenet,validation_txt_path,images_path,annotations_path):\n",
        "  num_classes = 21\n",
        "  mobilenet.eval()\n",
        "\n",
        "  # Transform\n",
        "  transform = transforms.Compose([\n",
        "      transforms.ToTensor(),\n",
        "      transforms.Resize((256,256)),\n",
        "  ])\n",
        "\n",
        "  # Load and preprocess the test dataset\n",
        "  image_names = path_to_list(validation_txt_path)\n",
        "\n",
        "  validation_dataset = CustomDataset(images_path,annotations_path,image_names,transform)\n",
        "  # validation_masks_dataset = CustomDataset(images_path,annotations_path,image_names,transform)\n",
        "  # Load and preprocess your dataset\n",
        "  test_loader = DataLoader(\n",
        "      dataset=validation_dataset,\n",
        "      batch_size=1,\n",
        "      shuffle=True,\n",
        "      num_workers=1\n",
        "  )\n",
        "\n",
        "\n",
        "  predicted_masks = []\n",
        "  gt_masks = []\n",
        "  \n",
        "  with torch.no_grad():\n",
        "    for images, labels in test_loader:\n",
        "        \n",
        "        output = mobilenet(images)\n",
        "        \n",
        "        \n",
        "        # Convert the predicted segmentation mask to an integer numpy array\n",
        "        output = torch.argmax(output, dim=1).squeeze().cpu().numpy().astype(np.int32)\n",
        "\n",
        "        labels = labels.squeeze()\n",
        "        labels = labels.numpy()\n",
        "        \n",
        "        predicted_masks.append(output)\n",
        "        gt_masks.append(labels)\n",
        "\n",
        "  mobilenet.cpu()\n",
        "  return pixelwise_accuracy(predicted_masks,gt_masks),mean_iou(predicted_masks, gt_masks,21)"
      ],
      "metadata": {
        "id": "ca_kf56ia28s"
      },
      "execution_count": 20,
      "outputs": []
    },
    {
      "cell_type": "code",
      "source": [
        "mobilenet = torchvision.models.mobilenet_v2(pretrained=True)\n",
        "\n",
        "mobilenet = train_model(mobilenet,train_txt_path,images_path,annotations_path,20)\n",
        "acc,iou = test_model(mobilenet,validation_txt_path,images_path,annotations_path)\n",
        "print(\"Accuracy: \",acc,\"\\nIOU: \",iou)"
      ],
      "metadata": {
        "colab": {
          "base_uri": "https://localhost:8080/"
        },
        "id": "UM3zr9DXYvjE",
        "outputId": "3fcacb5b-5b7e-4b58-a153-f7cba5624023"
      },
      "execution_count": 21,
      "outputs": [
        {
          "output_type": "stream",
          "name": "stderr",
          "text": [
            "/usr/local/lib/python3.8/dist-packages/torchvision/models/_utils.py:208: UserWarning: The parameter 'pretrained' is deprecated since 0.13 and may be removed in the future, please use 'weights' instead.\n",
            "  warnings.warn(\n",
            "/usr/local/lib/python3.8/dist-packages/torchvision/models/_utils.py:223: UserWarning: Arguments other than a weight enum or `None` for 'weights' are deprecated since 0.13 and may be removed in the future. The current behavior is equivalent to passing `weights=MobileNet_V2_Weights.IMAGENET1K_V1`. You can also use `weights=MobileNet_V2_Weights.DEFAULT` to get the most up-to-date weights.\n",
            "  warnings.warn(msg)\n"
          ]
        },
        {
          "output_type": "stream",
          "name": "stdout",
          "text": [
            "Epoch [1/20], Loss: 1.3283\n",
            "Epoch [2/20], Loss: 1.2715\n",
            "Epoch [3/20], Loss: 1.4731\n",
            "Epoch [4/20], Loss: 0.8784\n",
            "Epoch [5/20], Loss: 1.2843\n",
            "Epoch [6/20], Loss: 0.4626\n",
            "Epoch [7/20], Loss: 1.1117\n",
            "Epoch [8/20], Loss: 1.0285\n",
            "Epoch [9/20], Loss: 1.2118\n",
            "Epoch [10/20], Loss: 0.3471\n",
            "Epoch [11/20], Loss: 1.3365\n",
            "Epoch [12/20], Loss: 0.4614\n",
            "Epoch [13/20], Loss: 1.8148\n",
            "Epoch [14/20], Loss: 1.3314\n",
            "Epoch [15/20], Loss: 0.6069\n",
            "Epoch [16/20], Loss: 0.7333\n",
            "Epoch [17/20], Loss: 0.2746\n",
            "Epoch [18/20], Loss: 4.2741\n",
            "Epoch [19/20], Loss: 1.3043\n",
            "Epoch [20/20], Loss: 0.2145\n",
            "Accuracy:  0.7575306780461414 \n",
            "IOU:  0.2501428611419563\n"
          ]
        }
      ]
    },
    {
      "cell_type": "code",
      "source": [
        "s = path_to_list(validation_txt_path)[2]\n",
        "image_name = s + '.jpg'\n",
        "annotation_name = s + '.png'\n",
        "image = io.imread(os.path.join(images_path,image_name))\n",
        "annotation = imageio.imread(os.path.join(annotations_path,annotation_name), pilmode='RGB')\n",
        "annotation = np.asarray(annotation)\n",
        "\n",
        "\n",
        "fig, ax = plt.subplots(1, 3, figsize=(10, 5))\n",
        "\n",
        "# Display the image\n",
        "ax[0].imshow(image)\n",
        "ax[0].set_title('Image')\n",
        "\n",
        "# Display the annotation\n",
        "ax[1].imshow(annotation)\n",
        "ax[1].set_title('Annotation')\n",
        "\n",
        "# Display the annotation\n",
        "composed_transform = transforms.Compose([\n",
        "    transforms.ToTensor(),\n",
        "])\n",
        "\n",
        "image = composed_transform(image)\n",
        "image = image.unsqueeze(0)\n",
        "prediction = mobilenet(image)\n",
        "prediction = torch.argmax(prediction, dim=1).squeeze().cpu().numpy().astype(np.int32)\n",
        "# Display the Prediction\n",
        "ax[2].imshow(prediction)\n",
        "ax[2].set_title('Prediction')\n",
        "\n",
        "plt.show()"
      ],
      "metadata": {
        "id": "mc6moAVU21PI",
        "colab": {
          "base_uri": "https://localhost:8080/",
          "height": 187
        },
        "outputId": "5a5df335-25f5-4894-a4c4-3e32ea04382c"
      },
      "execution_count": 33,
      "outputs": [
        {
          "output_type": "display_data",
          "data": {
            "text/plain": [
              "<Figure size 720x360 with 3 Axes>"
            ],
            "image/png": "[encoded data removed]"
          },
          "metadata": {
            "needs_background": "light"
          }
        }
      ]
    },
    {
      "cell_type": "code",
      "source": [],
      "metadata": {
        "id": "vMVaYWy-HXe5"
      },
      "execution_count": null,
      "outputs": []
    }
  ]
}